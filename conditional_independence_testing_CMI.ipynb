{
 "cells": [
  {
   "cell_type": "markdown",
   "id": "0113b3e2",
   "metadata": {},
   "source": [
    "This file computes the CMIknn conditional independence tests"
   ]
  },
  {
   "cell_type": "code",
   "execution_count": 1,
   "id": "cc774b03",
   "metadata": {},
   "outputs": [],
   "source": [
    "import numpy as np\n",
    "import data_preprocessing.data_preprocessing as data\n",
    "import tigramite.independence_tests.cmiknn as tre\n",
    "import scipy.stats as sc\n",
    "import pandas as pd\n",
    "\n",
    "excel_file= pd.ExcelFile('./data_preprocessing/other_cells/HeLa Summary N=3.xlsx')\n",
    "cell_vol = pd.read_excel(excel_file, usecols = 'D', skiprows = lambda x: (x < 6) or (x >= 90))\n",
    "hela_cellvol = np.array(cell_vol[\"Cell Volume\"])\n",
    "hela_cellvol = hela_cellvol[~ np.isnan(hela_cellvol)]\n",
    "mito_length = pd.read_excel(excel_file, usecols = 'P', skiprows = lambda x: (x < 6) or (x >= 90))\n",
    "hela_mtvol = np.array(mito_length[\"total volume\"])\n",
    "hela_mtvol = hela_mtvol[~ np.isnan(hela_mtvol)]\n",
    "dna_num = pd.read_excel(excel_file, usecols = 'R', skiprows = lambda x: (x < 6) or (x >= 90))\n",
    "hela_dna = np.array(dna_num[\"count.1\"])\n",
    "hela_dna = hela_dna[~ np.isnan(hela_dna)]\n",
    "\n",
    "excel_file= pd.ExcelFile('./data_preprocessing/other_cells/COS7 Summary N=3.xlsx')\n",
    "cell_vol = pd.read_excel(excel_file, usecols = 'D', skiprows = lambda x: (x < 6) or (x >= 61))\n",
    "cos7_cellvol = np.array(cell_vol[\"Cell Volume\"])\n",
    "cos7_cellvol = cos7_cellvol[~ np.isnan(cos7_cellvol)]\n",
    "mito_length = pd.read_excel(excel_file, usecols = 'P', skiprows = lambda x: (x < 6) or (x >= 61))\n",
    "cos7_mtvol = np.array(mito_length[\"total volume\"])\n",
    "cos7_mtvol = cos7_mtvol[~ np.isnan(cos7_mtvol)]\n",
    "dna_num = pd.read_excel(excel_file, usecols = 'X', skiprows = lambda x: (x < 6) or (x >= 61))\n",
    "cos7_dna = np.array(dna_num[\"count.1\"])\n",
    "cos7_dna = cos7_dna[~ np.isnan(cos7_dna)]\n",
    "\n",
    "excel_file= pd.ExcelFile('./data_preprocessing/other_cells/summary hepatocytes n of 8.xlsx')\n",
    "cell_vol = pd.read_excel(excel_file, usecols = 'F', skiprows = lambda x: (x < 3) or (x >= 39))\n",
    "hep_cellvol = np.array(cell_vol[\"cellular volume (microns cubed)\"])\n",
    "hep_cellvol = hep_cellvol[~ np.isnan(hep_cellvol)]\n",
    "mito_length = pd.read_excel(excel_file, usecols = 'D', skiprows = lambda x: (x < 3) or (x >= 39))\n",
    "hep_mtvol = np.array(mito_length[\"mitochondrial volume (microns cubed)\"])\n",
    "hep_mtvol = hep_mtvol[~ np.isnan(hep_mtvol)]\n",
    "dna_num = pd.read_excel(excel_file, usecols = 'C', skiprows = lambda x: (x < 3) or (x >= 39))\n",
    "hep_dna = np.array(dna_num[\"nucleoid number\"])\n",
    "hep_dna = hep_dna[~ np.isnan(hep_dna)]"
   ]
  },
  {
   "cell_type": "markdown",
   "id": "c1c9a150",
   "metadata": {},
   "source": [
    "Fibroblasts"
   ]
  },
  {
   "cell_type": "code",
   "execution_count": null,
   "id": "99f2f6d4",
   "metadata": {},
   "outputs": [
    {
     "name": "stdout",
     "output_type": "stream",
     "text": [
      "V condind l given N:\n",
      "Test stat = 0.07798163133038383\n",
      "p-value = 0.0\n",
      "N condind V given l:\n",
      "Test stat = 0.06750560199178146\n",
      "p-value = 0.002\n",
      "N condind l given V:\n",
      "Test stat = 0.20118633173674727\n",
      "p-value = 0.0\n"
     ]
    }
   ],
   "source": [
    "np.random.seed(0)\n",
    "v = np.arange(len(data.all_assays_cell_volumes))\n",
    "np.random.shuffle(v)\n",
    "test = tre.CMIknn()\n",
    "\n",
    "XYZ = np.array([sc.zscore(data.all_assays_cell_volumes[v]), sc.zscore(data.all_assays_mito_lengths[v]), sc.zscore(data.all_assays_dna_numbers[v])])\n",
    "unshuffled_test_stat = test.get_dependence_measure(XYZ, np.array([0,1,2]))\n",
    "result = test.get_shuffle_significance(XYZ, np.array([0,1,2]), unshuffled_test_stat)\n",
    "print(\"V condind l given N:\")\n",
    "print(\"Test stat = \" + str(unshuffled_test_stat))\n",
    "print(\"p-value = \" + str(result))\n",
    "\n",
    "\n",
    "XYZ = np.array([sc.zscore(data.all_assays_dna_numbers[v]), sc.zscore(data.all_assays_cell_volumes[v]), sc.zscore(data.all_assays_mito_lengths[v])])\n",
    "unshuffled_test_stat = test.get_dependence_measure(XYZ, np.array([0,1,2]))\n",
    "result = test.get_shuffle_significance(XYZ, np.array([0,1,2]), unshuffled_test_stat)\n",
    "print(\"N condind V given l:\")\n",
    "print(\"Test stat = \" + str(unshuffled_test_stat))\n",
    "print(\"p-value = \" + str(result))\n",
    "\n",
    "\n",
    "XYZ = np.array([sc.zscore(data.all_assays_dna_numbers[v]), sc.zscore(data.all_assays_mito_lengths[v]), sc.zscore(data.all_assays_cell_volumes[v])])\n",
    "unshuffled_test_stat = test.get_dependence_measure(XYZ, np.array([0,1,2]))\n",
    "result = test.get_shuffle_significance(XYZ, np.array([0,1,2]), unshuffled_test_stat)\n",
    "print(\"N condind l given V:\")\n",
    "print(\"Test stat = \" + str(unshuffled_test_stat))\n",
    "print(\"p-value = \" + str(result))"
   ]
  },
  {
   "cell_type": "markdown",
   "id": "c4f29261",
   "metadata": {},
   "source": [
    "HeLa cells"
   ]
  },
  {
   "cell_type": "code",
   "execution_count": 4,
   "id": "269d3a90",
   "metadata": {},
   "outputs": [
    {
     "name": "stdout",
     "output_type": "stream",
     "text": [
      "V condind l given N:\n",
      "Test stat = 0.28402309685966554\n",
      "p-value = 0.0\n",
      "N condind V given l:\n",
      "Test stat = 0.016692162943249933\n",
      "p-value = 0.792\n",
      "N condind l given V:\n",
      "Test stat = 0.20802619855070414\n",
      "p-value = 0.0\n"
     ]
    }
   ],
   "source": [
    "#hela\n",
    "np.random.seed(0)\n",
    "v = np.arange(len(hela_cellvol))\n",
    "np.random.shuffle(v)\n",
    "test = tre.CMIknn()\n",
    "\n",
    "\n",
    "XYZ = np.array([sc.zscore(hela_cellvol[v]), sc.zscore(hela_mtvol[v]), sc.zscore(hela_dna[v])])\n",
    "unshuffled_test_stat = test.get_dependence_measure(XYZ, np.array([0,1,2]))\n",
    "result = test.get_shuffle_significance(XYZ, np.array([0,1,2]), unshuffled_test_stat)\n",
    "print(\"V condind l given N:\")\n",
    "print(\"Test stat = \" + str(unshuffled_test_stat))\n",
    "print(\"p-value = \" + str(result))\n",
    "\n",
    "\n",
    "XYZ = np.array([sc.zscore(hela_dna[v]), sc.zscore(hela_cellvol[v]), sc.zscore(hela_mtvol[v])])\n",
    "unshuffled_test_stat = test.get_dependence_measure(XYZ, np.array([0,1,2]))\n",
    "result = test.get_shuffle_significance(XYZ, np.array([0,1,2]), unshuffled_test_stat)\n",
    "print(\"N condind V given l:\")\n",
    "print(\"Test stat = \" + str(unshuffled_test_stat))\n",
    "print(\"p-value = \" + str(result))\n",
    "\n",
    "\n",
    "XYZ = np.array([sc.zscore(hela_dna[v]), sc.zscore(hela_mtvol[v]), sc.zscore(hela_cellvol[v])])\n",
    "unshuffled_test_stat = test.get_dependence_measure(XYZ, np.array([0,1,2]))\n",
    "result = test.get_shuffle_significance(XYZ, np.array([0,1,2]), unshuffled_test_stat)\n",
    "print(\"N condind l given V:\")\n",
    "print(\"Test stat = \" + str(unshuffled_test_stat))\n",
    "print(\"p-value = \" + str(result))"
   ]
  },
  {
   "cell_type": "markdown",
   "id": "68b8ca21",
   "metadata": {},
   "source": [
    "COS-7 cells"
   ]
  },
  {
   "cell_type": "code",
   "execution_count": 5,
   "id": "a800442e",
   "metadata": {},
   "outputs": [
    {
     "name": "stdout",
     "output_type": "stream",
     "text": [
      "V condind l given N:\n",
      "Test stat = 0.1541440854027225\n",
      "p-value = 0.076\n",
      "N condind V given l:\n",
      "Test stat = 0.1297302103568998\n",
      "p-value = 0.134\n",
      "N condind l given V:\n",
      "Test stat = 0.18581150200127183\n",
      "p-value = 0.024\n"
     ]
    }
   ],
   "source": [
    "#cos7\n",
    "np.random.seed(0)\n",
    "v = np.arange(len(cos7_cellvol))\n",
    "np.random.shuffle(v)\n",
    "test = tre.CMIknn()\n",
    "\n",
    "\n",
    "XYZ = np.array([sc.zscore(cos7_cellvol[v]), sc.zscore(cos7_mtvol[v]), sc.zscore(cos7_dna[v])])\n",
    "unshuffled_test_stat = test.get_dependence_measure(XYZ, np.array([0,1,2]))\n",
    "result = test.get_shuffle_significance(XYZ, np.array([0,1,2]), unshuffled_test_stat)\n",
    "print(\"V condind l given N:\")\n",
    "print(\"Test stat = \" + str(unshuffled_test_stat))\n",
    "print(\"p-value = \" + str(result))\n",
    "\n",
    "\n",
    "XYZ = np.array([sc.zscore(cos7_dna[v]), sc.zscore(cos7_cellvol[v]), sc.zscore(cos7_mtvol[v])])\n",
    "unshuffled_test_stat = test.get_dependence_measure(XYZ, np.array([0,1,2]))\n",
    "result = test.get_shuffle_significance(XYZ, np.array([0,1,2]), unshuffled_test_stat)\n",
    "print(\"N condind V given l:\")\n",
    "print(\"Test stat = \" + str(unshuffled_test_stat))\n",
    "print(\"p-value = \" + str(result))\n",
    "\n",
    "\n",
    "XYZ = np.array([sc.zscore(cos7_dna[v]), sc.zscore(cos7_mtvol[v]), sc.zscore(cos7_cellvol[v])])\n",
    "unshuffled_test_stat = test.get_dependence_measure(XYZ, np.array([0,1,2]))\n",
    "result = test.get_shuffle_significance(XYZ, np.array([0,1,2]), unshuffled_test_stat)\n",
    "print(\"N condind l given V:\")\n",
    "print(\"Test stat = \" + str(unshuffled_test_stat))\n",
    "print(\"p-value = \" + str(result))"
   ]
  },
  {
   "cell_type": "markdown",
   "id": "b3fa0471",
   "metadata": {},
   "source": [
    "Primary murine hepatocytes"
   ]
  },
  {
   "cell_type": "code",
   "execution_count": 6,
   "id": "5b9bdeed",
   "metadata": {},
   "outputs": [
    {
     "name": "stdout",
     "output_type": "stream",
     "text": [
      "V condind l given N:\n",
      "Test stat = 0.2923675753322217\n",
      "p-value = 0.0\n",
      "N condind V given l:\n",
      "Test stat = 0.14622330741376022\n",
      "p-value = 0.224\n",
      "N condind l given V:\n",
      "Test stat = 0.19218730283221475\n",
      "p-value = 0.066\n"
     ]
    }
   ],
   "source": [
    "#hep\n",
    "np.random.seed(0)\n",
    "v = np.arange(len(hep_cellvol))\n",
    "np.random.shuffle(v)\n",
    "test = tre.CMIknn()\n",
    "\n",
    "\n",
    "XYZ = np.array([sc.zscore(hep_cellvol[v]), sc.zscore(hep_mtvol[v]), sc.zscore(hep_dna[v])])\n",
    "unshuffled_test_stat = test.get_dependence_measure(XYZ, np.array([0,1,2]))\n",
    "result = test.get_shuffle_significance(XYZ, np.array([0,1,2]), unshuffled_test_stat)\n",
    "print(\"V condind l given N:\")\n",
    "print(\"Test stat = \" + str(unshuffled_test_stat))\n",
    "print(\"p-value = \" + str(result))\n",
    "\n",
    "\n",
    "XYZ = np.array([sc.zscore(hep_dna[v]), sc.zscore(hep_cellvol[v]), sc.zscore(hep_mtvol[v])])\n",
    "unshuffled_test_stat = test.get_dependence_measure(XYZ, np.array([0,1,2]))\n",
    "result = test.get_shuffle_significance(XYZ, np.array([0,1,2]), unshuffled_test_stat)\n",
    "print(\"N condind V given l:\")\n",
    "print(\"Test stat = \" + str(unshuffled_test_stat))\n",
    "print(\"p-value = \" + str(result))\n",
    "\n",
    "\n",
    "XYZ = np.array([sc.zscore(hep_dna[v]), sc.zscore(hep_mtvol[v]), sc.zscore(hep_cellvol[v])])\n",
    "unshuffled_test_stat = test.get_dependence_measure(XYZ, np.array([0,1,2]))\n",
    "result = test.get_shuffle_significance(XYZ, np.array([0,1,2]), unshuffled_test_stat)\n",
    "print(\"N condind l given V:\")\n",
    "print(\"Test stat = \" + str(unshuffled_test_stat))\n",
    "print(\"p-value = \" + str(result))"
   ]
  }
 ],
 "metadata": {
  "kernelspec": {
   "display_name": "pytorch_env",
   "language": "python",
   "name": "python3"
  },
  "language_info": {
   "codemirror_mode": {
    "name": "ipython",
    "version": 3
   },
   "file_extension": ".py",
   "mimetype": "text/x-python",
   "name": "python",
   "nbconvert_exporter": "python",
   "pygments_lexer": "ipython3",
   "version": "3.12.7"
  }
 },
 "nbformat": 4,
 "nbformat_minor": 5
}
